{
 "cells": [
  {
   "cell_type": "code",
   "execution_count": 1,
   "metadata": {
    "scrolled": true
   },
   "outputs": [],
   "source": [
    "from bs4 import BeautifulSoup\n",
    "import urllib\n",
    "import urllib2"
   ]
  },
  {
   "cell_type": "code",
   "execution_count": 5,
   "metadata": {
    "collapsed": true
   },
   "outputs": [],
   "source": [
    "num = 1"
   ]
  },
  {
   "cell_type": "code",
   "execution_count": 6,
   "metadata": {},
   "outputs": [],
   "source": [
    "def getImage(url):\n",
    "    if not url.startswith('http') and not url.startswith('https'):\n",
    "        return []\n",
    "    try:\n",
    "        response = urllib2.urlopen(url)\n",
    "    except HTTPError:\n",
    "        return []\n",
    "   # response = urllib2.urlopen(url)\n",
    "    soup = BeautifulSoup(response)\n",
    "    newurl = list()\n",
    "    for a in soup.find_all('a'):\n",
    "        if a.has_attr('href') and a['href'] not in newurl:\n",
    "            newurl.append(a['href'])\n",
    "    global num\n",
    "    \n",
    "    for img in soup.find_all('img'):\n",
    "        string = img['src'].encode('gbk')\n",
    "        if string.startswith('//'):\n",
    "            string = \"http:\"+string\n",
    "        string = string.split('?')[0]\n",
    "        string = string.split('@')[0]\n",
    "        if not string.endswith('jpg') and not string.endswith('png'):\n",
    "            continue\n",
    "        name = '/home/wei/TestData/%s.'%num+string.split('.')[-1]\n",
    "        \n",
    "        try:\n",
    "            urllib.urlretrieve(string, name)\n",
    "        except IOError:\n",
    "            pass\n",
    "        else:\n",
    "            num = num+1\n",
    "        print name\n",
    "    return newurl"
   ]
  },
  {
   "cell_type": "code",
   "execution_count": 7,
   "metadata": {},
   "outputs": [
    {
     "name": "stdout",
     "output_type": "stream",
     "text": [
      "/home/wei/TestData/1.jpg\n",
      "/home/wei/TestData/1.jpg\n",
      "/home/wei/TestData/1.jpg\n",
      "/home/wei/TestData/1.jpg\n",
      "/home/wei/TestData/1.png\n",
      "/home/wei/TestData/1.png\n",
      "/home/wei/TestData/1.png\n",
      "/home/wei/TestData/1.png\n",
      "/home/wei/TestData/1.png\n",
      "/home/wei/TestData/1.png\n",
      "/home/wei/TestData/1.png\n",
      "/home/wei/TestData/1.jpg\n",
      "[u'/main/xygk', u'/main/xygk/xyjj.html', u'/main/xygk/xxgk.html', u'/main/xygk/xyfg.html', u'/zhxw', u'#', u'/zdh', u'/jxx', u'/dzx', u'/jsj', u'/jgx', u'/jcb', u'/dgdzlab', u'/hhyq', u'/main/jyjx', u'/jwc', u'/kyc', u'/xqhz', u'/main/szll', u'/main/szll/index.html#rczp', u'/zsxx/', u'/jyxx/', u'/qczh/', u'/tw/', u'/djgz/', u'/syxx/', u'', u'/zhxw/zhyw/news/0564.html', u'/export/sites/tjzhic/zhxw/zhyw/news/0574.html', u'/export/sites/tjzhic/zhxw/zhyw/news/0573.html', u'/export/sites/tjzhic/zhxw/zhyw/news/0572.html', u'/export/sites/tjzhic/zhxw/zhyw/news/0569.html', u'/export/sites/tjzhic/zhxw/zhyw/news/0568.html', u'/export/sites/tjzhic/zhxw/zhyw/', u'/export/sites/tjzhic/main/content/tzgg_news/news/tzgg_0154.html', u'/export/sites/tjzhic/main/content/tzgg_news/news/tzgg_0153.html', u'/export/sites/tjzhic/main/content/tzgg_news/news/tzgg_0152.html', u'/export/sites/tjzhic/main/content/tzgg_news/news/tzgg_0151.html', u'/export/sites/tjzhic/main/content/tzgg_news/news/tzgg_0150.html', u'/export/sites/tjzhic/main/content/tzgg_news/', u'http://lab.tjzhic.com:82/extmail/cgi/index.cgi', u'/zh/yzxx.jsp', u'/export/sites/tjzhic/syxx/', u'/export/sites/tjzhic/main/szll/rczp/', u'/export/sites/tjzhic/library/index.html', u'http://www.miibeian.gov.cn/', u'/main/xygk/', u'/zhxw/', u'/zdh/', u'/jxx/', u'/dzx/', u'/jsj/', u'/jgx/', u'/jcb/', u'/kzgclab/', u'/main/jyjx/', u'/jwc/', u'http://lab.tjzhic.com:8080/cjcx/', u'/main/kxyj/', u'/main/kxyj/index.html#kycg', u'/main/szll/', u'/gqtw/']\n",
      "/main/xygk\n",
      "/main/xygk/xyjj.html\n",
      "/main/xygk/xxgk.html\n",
      "/main/xygk/xyfg.html\n",
      "/zhxw\n",
      "#\n",
      "/zdh\n",
      "/jxx\n",
      "/dzx\n",
      "/jsj\n",
      "/jgx\n",
      "/jcb\n",
      "/dgdzlab\n",
      "/hhyq\n",
      "/main/jyjx\n",
      "/jwc\n",
      "/kyc\n",
      "/xqhz\n",
      "/main/szll\n",
      "/main/szll/index.html#rczp\n",
      "/zsxx/\n",
      "/jyxx/\n",
      "/qczh/\n",
      "/tw/\n",
      "/djgz/\n",
      "/syxx/\n",
      "\n",
      "/zhxw/zhyw/news/0564.html\n",
      "/export/sites/tjzhic/zhxw/zhyw/news/0574.html\n",
      "/export/sites/tjzhic/zhxw/zhyw/news/0573.html\n",
      "/export/sites/tjzhic/zhxw/zhyw/news/0572.html\n",
      "/export/sites/tjzhic/zhxw/zhyw/news/0569.html\n",
      "/export/sites/tjzhic/zhxw/zhyw/news/0568.html\n",
      "/export/sites/tjzhic/zhxw/zhyw/\n",
      "/export/sites/tjzhic/main/content/tzgg_news/news/tzgg_0154.html\n",
      "/export/sites/tjzhic/main/content/tzgg_news/news/tzgg_0153.html\n",
      "/export/sites/tjzhic/main/content/tzgg_news/news/tzgg_0152.html\n",
      "/export/sites/tjzhic/main/content/tzgg_news/news/tzgg_0151.html\n",
      "/export/sites/tjzhic/main/content/tzgg_news/news/tzgg_0150.html\n",
      "/export/sites/tjzhic/main/content/tzgg_news/\n",
      "http://lab.tjzhic.com:82/extmail/cgi/index.cgi\n",
      "/zh/yzxx.jsp\n",
      "/export/sites/tjzhic/syxx/\n",
      "/export/sites/tjzhic/main/szll/rczp/\n",
      "/export/sites/tjzhic/library/index.html\n",
      "http://www.miibeian.gov.cn/\n"
     ]
    },
    {
     "ename": "NameError",
     "evalue": "global name 'HTTPError' is not defined",
     "output_type": "error",
     "traceback": [
      "\u001b[0;31m---------------------------------------------------------------------------\u001b[0m",
      "\u001b[0;31mNameError\u001b[0m                                 Traceback (most recent call last)",
      "\u001b[0;32m<ipython-input-7-ff9278b5aabb>\u001b[0m in \u001b[0;36m<module>\u001b[0;34m()\u001b[0m\n\u001b[1;32m      3\u001b[0m \u001b[0;32mfor\u001b[0m \u001b[0mu\u001b[0m \u001b[0;32min\u001b[0m \u001b[0mnewurl\u001b[0m\u001b[0;34m:\u001b[0m\u001b[0;34m\u001b[0m\u001b[0m\n\u001b[1;32m      4\u001b[0m     \u001b[0;32mprint\u001b[0m \u001b[0mu\u001b[0m\u001b[0;34m\u001b[0m\u001b[0m\n\u001b[0;32m----> 5\u001b[0;31m     \u001b[0mgetImage\u001b[0m\u001b[0;34m(\u001b[0m\u001b[0mu\u001b[0m\u001b[0;34m)\u001b[0m\u001b[0;34m\u001b[0m\u001b[0m\n\u001b[0m",
      "\u001b[0;32m<ipython-input-6-db619c652a56>\u001b[0m in \u001b[0;36mgetImage\u001b[0;34m(url)\u001b[0m\n\u001b[1;32m      4\u001b[0m     \u001b[0;32mtry\u001b[0m\u001b[0;34m:\u001b[0m\u001b[0;34m\u001b[0m\u001b[0m\n\u001b[1;32m      5\u001b[0m         \u001b[0mresponse\u001b[0m \u001b[0;34m=\u001b[0m \u001b[0murllib2\u001b[0m\u001b[0;34m.\u001b[0m\u001b[0murlopen\u001b[0m\u001b[0;34m(\u001b[0m\u001b[0murl\u001b[0m\u001b[0;34m)\u001b[0m\u001b[0;34m\u001b[0m\u001b[0m\n\u001b[0;32m----> 6\u001b[0;31m     \u001b[0;32mexcept\u001b[0m \u001b[0mHTTPError\u001b[0m\u001b[0;34m:\u001b[0m\u001b[0;34m\u001b[0m\u001b[0m\n\u001b[0m\u001b[1;32m      7\u001b[0m         \u001b[0;32mreturn\u001b[0m \u001b[0;34m[\u001b[0m\u001b[0;34m]\u001b[0m\u001b[0;34m\u001b[0m\u001b[0m\n\u001b[1;32m      8\u001b[0m    \u001b[0;31m# response = urllib2.urlopen(url)\u001b[0m\u001b[0;34m\u001b[0m\u001b[0;34m\u001b[0m\u001b[0m\n",
      "\u001b[0;31mNameError\u001b[0m: global name 'HTTPError' is not defined"
     ]
    }
   ],
   "source": [
    "newurl = getImage('http://www.tjzhic.com')\n",
    "print newurl\n",
    "for u in newurl:\n",
    "    print u\n",
    "    getImage(u)"
   ]
  },
  {
   "cell_type": "code",
   "execution_count": null,
   "metadata": {},
   "outputs": [],
   "source": [
    "soup = BeautifulSoup(response)\n",
    "print soup.prettify()"
   ]
  },
  {
   "cell_type": "code",
   "execution_count": null,
   "metadata": {},
   "outputs": [],
   "source": [
    "for a in soup.find_all('a'):\n",
    "    if a.has_attr('href'):\n",
    "        print a['href']"
   ]
  },
  {
   "cell_type": "code",
   "execution_count": null,
   "metadata": {},
   "outputs": [],
   "source": [
    "print soup.find_all('img')[0]['src']"
   ]
  },
  {
   "cell_type": "code",
   "execution_count": null,
   "metadata": {
    "scrolled": true
   },
   "outputs": [],
   "source": [
    "num = 1\n",
    "for img in soup.find_all('img'):\n",
    "    string = img['src'].encode('gbk')\n",
    "    if string.startswith('//'):\n",
    "        string = \"http:\"+string\n",
    "    string = string.split('?')[0]\n",
    "    string = string.split('@')[0]\n",
    "    name = '/home/wei/TestData/%s.'%num+string.split('.')[-1]\n",
    "    num = num+1\n",
    "    urllib.urlretrieve(string, name)\n",
    "    print name"
   ]
  },
  {
   "cell_type": "code",
   "execution_count": null,
   "metadata": {},
   "outputs": [],
   "source": [
    "a = [1,2,3,5]\n",
    "print 19 in a"
   ]
  }
 ],
 "metadata": {
  "kernelspec": {
   "display_name": "Python 2",
   "language": "python",
   "name": "python2"
  },
  "language_info": {
   "codemirror_mode": {
    "name": "ipython",
    "version": 2
   },
   "file_extension": ".py",
   "mimetype": "text/x-python",
   "name": "python",
   "nbconvert_exporter": "python",
   "pygments_lexer": "ipython2",
   "version": "2.7.12"
  }
 },
 "nbformat": 4,
 "nbformat_minor": 2
}
